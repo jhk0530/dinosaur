{
  "nbformat": 4,
  "nbformat_minor": 0,
  "metadata": {
    "colab": {
      "name": "25_최적의 알고리즘과 매개변수 찾기",
      "provenance": [],
      "authorship_tag": "ABX9TyP0t2M3h23iTRmyQ/gS/TLV",
      "include_colab_link": true
    },
    "kernelspec": {
      "name": "python3",
      "display_name": "Python 3"
    }
  },
  "cells": [
    {
      "cell_type": "markdown",
      "metadata": {
        "id": "view-in-github",
        "colab_type": "text"
      },
      "source": [
        "<a href=\"https://colab.research.google.com/github/jhk0530/dinosaur/blob/master/25_%EC%B5%9C%EC%A0%81%EC%9D%98_%EC%95%8C%EA%B3%A0%EB%A6%AC%EC%A6%98%EA%B3%BC_%EB%A7%A4%EA%B0%9C%EB%B3%80%EC%88%98_%EC%B0%BE%EA%B8%B0.ipynb\" target=\"_parent\"><img src=\"https://colab.research.google.com/assets/colab-badge.svg\" alt=\"Open In Colab\"/></a>"
      ]
    },
    {
      "cell_type": "markdown",
      "metadata": {
        "id": "s-stNVIgednU",
        "colab_type": "text"
      },
      "source": [
        "| 관점 | 고려할점 | 해결방법 |\n",
        "| :---: | :---: | :---: |\n",
        "| 알고리즘 선정| 더 높은 정답률을 내는 다른 알고리즘이 있는가 | 각각 알고리즘별로 테스트|\n",
        "| 알고리즘 평가| 데이터 분류가 쏠려 있지 않은가 | Cross Validation|\n",
        "\n"
      ]
    },
    {
      "cell_type": "code",
      "metadata": {
        "id": "_9wBLJaZfLu4",
        "colab_type": "code",
        "colab": {
          "base_uri": "https://localhost:8080/",
          "height": 35
        },
        "outputId": "7d9e62e3-24f7-4c7f-acfb-119a718f57a2"
      },
      "source": [
        "\n",
        "import urllib.request as req\n",
        "\n",
        "url = 'https://raw.githubusercontent.com/pandas-dev/pandas/master/pandas/tests/data/iris.csv'\n",
        "\n",
        "savefile = 'iris.csv'\n",
        "req.urlretrieve(url, savefile)\n"
      ],
      "execution_count": 1,
      "outputs": [
        {
          "output_type": "execute_result",
          "data": {
            "text/plain": [
              "('iris.csv', <http.client.HTTPMessage at 0x7f976de09fd0>)"
            ]
          },
          "metadata": {
            "tags": []
          },
          "execution_count": 1
        }
      ]
    },
    {
      "cell_type": "code",
      "metadata": {
        "id": "fb-R8I8Bdozh",
        "colab_type": "code",
        "colab": {
          "base_uri": "https://localhost:8080/",
          "height": 629
        },
        "outputId": "26550750-3738-4f29-e493-a083813970e7"
      },
      "source": [
        "\n",
        "\n",
        "import pandas as pd\n",
        "from sklearn.model_selection import train_test_split\n",
        "from sklearn.metrics import accuracy_score\n",
        "import warnings\n",
        "from sklearn.utils.testing import all_estimators\n",
        "\n",
        "iris_data = pd.read_csv('iris.csv')\n",
        "\n",
        "iris_data\n",
        "\n",
        "y = iris_data.loc[:,'Name']\n",
        "x = iris_data.loc[:,['SepalLength', 'SepalWidth', 'PetalLength', \"PetalWidth\"]]\n",
        "\n",
        "x_train, x_test, y_train, y_test = train_test_split(x,y,test_size = 0.2, shuffle = True)\n",
        "\n",
        "warnings.filterwarnings('ignore')\n",
        "allAlgorithms = all_estimators(type_filter='classifier')\n",
        "\n",
        "for( name, algorithm) in allAlgorithms:\n",
        "  if name == 'ClassifierChain' : continue\n",
        "  elif name == 'CheckingClassifier' : continue\n",
        "  elif name == 'MultiOutputClassifier' : continue\n",
        "  elif name == 'OneVsOneClassifier' : continue\n",
        "  elif name == 'OneVsRestClassifier' : continue\n",
        "  elif name == 'OutputCodeClassifier' : continue\n",
        "  elif name == 'StackingClassifier' : continue\n",
        "  elif name == 'VotingClassifier' : continue\n",
        "  \n",
        "  clf = algorithm()\n",
        "  \n",
        "  clf.fit(x_train, y_train)\n",
        "  y_pred = clf.predict(x_test)\n",
        "  print(name, '의 정답률 ', accuracy_score(y_test, y_pred))\n",
        "  "
      ],
      "execution_count": 26,
      "outputs": [
        {
          "output_type": "stream",
          "text": [
            "AdaBoostClassifier 의 정답률  0.9333333333333333\n",
            "BaggingClassifier 의 정답률  0.9666666666666667\n",
            "BernoulliNB 의 정답률  0.3\n",
            "CalibratedClassifierCV 의 정답률  0.9333333333333333\n",
            "CategoricalNB 의 정답률  0.9\n",
            "ComplementNB 의 정답률  0.7\n",
            "DecisionTreeClassifier 의 정답률  0.9666666666666667\n",
            "DummyClassifier 의 정답률  0.36666666666666664\n",
            "ExtraTreeClassifier 의 정답률  0.9666666666666667\n",
            "ExtraTreesClassifier 의 정답률  0.9666666666666667\n",
            "GaussianNB 의 정답률  0.9666666666666667\n",
            "GaussianProcessClassifier 의 정답률  0.9333333333333333\n",
            "GradientBoostingClassifier 의 정답률  0.9666666666666667\n",
            "HistGradientBoostingClassifier 의 정답률  0.9333333333333333\n",
            "KNeighborsClassifier 의 정답률  0.9666666666666667\n",
            "LabelPropagation 의 정답률  0.9666666666666667\n",
            "LabelSpreading 의 정답률  0.9666666666666667\n",
            "LinearDiscriminantAnalysis 의 정답률  0.9666666666666667\n",
            "LinearSVC 의 정답률  0.9333333333333333\n",
            "LogisticRegression 의 정답률  0.9666666666666667\n",
            "LogisticRegressionCV 의 정답률  0.9666666666666667\n",
            "MLPClassifier 의 정답률  0.9666666666666667\n",
            "MultinomialNB 의 정답률  0.9333333333333333\n",
            "NearestCentroid 의 정답률  0.9\n",
            "NuSVC 의 정답률  0.9333333333333333\n",
            "PassiveAggressiveClassifier 의 정답률  0.9333333333333333\n",
            "Perceptron 의 정답률  0.6333333333333333\n",
            "QuadraticDiscriminantAnalysis 의 정답률  0.9666666666666667\n",
            "RadiusNeighborsClassifier 의 정답률  0.9666666666666667\n",
            "RandomForestClassifier 의 정답률  0.9333333333333333\n",
            "RidgeClassifier 의 정답률  0.9333333333333333\n",
            "RidgeClassifierCV 의 정답률  0.9333333333333333\n",
            "SGDClassifier 의 정답률  0.7\n",
            "SVC 의 정답률  0.9333333333333333\n"
          ],
          "name": "stdout"
        }
      ]
    },
    {
      "cell_type": "markdown",
      "metadata": {
        "id": "2uZXVYz9iz6t",
        "colab_type": "text"
      },
      "source": [
        "나온지 1년이 되어서 그런가 코드 실행에 에러가 좀 있었다. 아무래도 string을 numeric type으로 변환 시키는 모델이 있었던것 같은데 해당 모델이 책을 작성 할 당시에는 없었고, 1년 사이에 추가된 것 같음. 일일히 if/elif 로 continue를 줘야 실행 됨\n",
        "\n",
        "## Cross Validation\n",
        "\n"
      ]
    },
    {
      "cell_type": "code",
      "metadata": {
        "id": "LgGTpiqFjuj3",
        "colab_type": "code",
        "colab": {
          "base_uri": "https://localhost:8080/",
          "height": 1000
        },
        "outputId": "d9107255-1f08-48b1-d657-295eadd91950"
      },
      "source": [
        "import pandas as pd\n",
        "from sklearn.utils.testing import all_estimators\n",
        "from sklearn.model_selection import KFold\n",
        "import warnings\n",
        "from sklearn.model_selection import cross_val_score\n",
        "\n",
        "iris_data = pd.read_csv('iris.csv', encoding = 'utf-8')\n",
        "\n",
        "y = iris_data.loc[:,'Name']\n",
        "x = iris_data.loc[:,['SepalLength', 'SepalWidth', 'PetalLength', \"PetalWidth\"]]\n",
        "\n",
        "warnings.filterwarnings('ignore')\n",
        "allAlgorithms = all_estimators(type_filter='classifier')\n",
        "\n",
        "k_fold_cv = KFold(n_splits = 5, shuffle = True)\n",
        "\n",
        "for( name, algorithm ) in allAlgorithms:\n",
        "\n",
        "  if name == 'ClassifierChain' : continue\n",
        "  elif name == 'CheckingClassifier' : continue\n",
        "  elif name == 'MultiOutputClassifier' : continue\n",
        "  elif name == 'OneVsOneClassifier' : continue\n",
        "  elif name == 'OneVsRestClassifier' : continue\n",
        "  elif name == 'OutputCodeClassifier' : continue\n",
        "  elif name == 'StackingClassifier' : continue\n",
        "  elif name == 'VotingClassifier' : continue\n",
        "\n",
        "  clf = algorithm()\n",
        "\n",
        "  if hasattr(clf,'score'):\n",
        "    scores = cross_val_score(clf, x,y,cv=k_fold_cv)\n",
        "    print(name, '의 정답률')\n",
        "    print(scores)\n",
        "\n",
        "\n"
      ],
      "execution_count": 30,
      "outputs": [
        {
          "output_type": "stream",
          "text": [
            "AdaBoostClassifier 의 정답률\n",
            "[0.86666667 1.         0.93333333 0.93333333 0.93333333]\n",
            "BaggingClassifier 의 정답률\n",
            "[0.93333333 1.         0.96666667 0.93333333 0.93333333]\n",
            "BernoulliNB 의 정답률\n",
            "[0.2        0.3        0.2        0.3        0.23333333]\n",
            "CalibratedClassifierCV 의 정답률\n",
            "[0.86666667 0.96666667 0.83333333 0.93333333 0.8       ]\n",
            "CategoricalNB 의 정답률\n",
            "[0.93333333 0.8        0.96666667 1.         0.93333333]\n",
            "ComplementNB 의 정답률\n",
            "[0.83333333 0.56666667 0.7        0.56666667 0.66666667]\n",
            "DecisionTreeClassifier 의 정답률\n",
            "[0.96666667 0.93333333 0.9        1.         1.        ]\n",
            "DummyClassifier 의 정답률\n",
            "[0.36666667 0.16666667 0.26666667 0.26666667 0.33333333]\n",
            "ExtraTreeClassifier 의 정답률\n",
            "[0.93333333 0.96666667 0.9        0.96666667 0.96666667]\n",
            "ExtraTreesClassifier 의 정답률\n",
            "[0.9        0.93333333 0.96666667 1.         0.96666667]\n",
            "GaussianNB 의 정답률\n",
            "[0.96666667 1.         0.9        0.93333333 1.        ]\n",
            "GaussianProcessClassifier 의 정답률\n",
            "[1.         0.96666667 0.9        0.96666667 0.96666667]\n",
            "GradientBoostingClassifier 의 정답률\n",
            "[0.9        0.96666667 1.         0.93333333 0.96666667]\n",
            "HistGradientBoostingClassifier 의 정답률\n",
            "[0.93333333 0.93333333 0.96666667 0.96666667 0.96666667]\n",
            "KNeighborsClassifier 의 정답률\n",
            "[0.93333333 0.96666667 0.93333333 0.96666667 0.96666667]\n",
            "LabelPropagation 의 정답률\n",
            "[1.         0.93333333 0.96666667 0.9        0.96666667]\n",
            "LabelSpreading 의 정답률\n",
            "[0.96666667 0.93333333 0.93333333 0.96666667 1.        ]\n",
            "LinearDiscriminantAnalysis 의 정답률\n",
            "[1.         0.96666667 1.         1.         0.93333333]\n",
            "LinearSVC 의 정답률\n",
            "[1.         0.93333333 0.93333333 0.9        1.        ]\n",
            "LogisticRegression 의 정답률\n",
            "[0.93333333 0.93333333 0.93333333 1.         1.        ]\n",
            "LogisticRegressionCV 의 정답률\n",
            "[1.         1.         0.9        1.         0.96666667]\n",
            "MLPClassifier 의 정답률\n",
            "[1.         1.         0.93333333 0.96666667 0.96666667]\n",
            "MultinomialNB 의 정답률\n",
            "[0.9        0.96666667 0.76666667 0.76666667 0.93333333]\n",
            "NearestCentroid 의 정답률\n",
            "[1.         0.9        0.9        0.96666667 0.9       ]\n",
            "NuSVC 의 정답률\n",
            "[0.93333333 0.93333333 1.         1.         0.93333333]\n",
            "PassiveAggressiveClassifier 의 정답률\n",
            "[0.53333333 0.73333333 0.9        0.86666667 0.83333333]\n",
            "Perceptron 의 정답률\n",
            "[0.93333333 0.93333333 0.93333333 0.8        0.8       ]\n",
            "QuadraticDiscriminantAnalysis 의 정답률\n",
            "[1.         0.93333333 0.93333333 1.         0.96666667]\n",
            "RadiusNeighborsClassifier 의 정답률\n",
            "[0.93333333 0.96666667 0.93333333 0.96666667 1.        ]\n",
            "RandomForestClassifier 의 정답률\n",
            "[1.         0.9        0.96666667 0.96666667 0.96666667]\n",
            "RidgeClassifier 의 정답률\n",
            "[0.9        0.8        0.86666667 0.8        0.76666667]\n",
            "RidgeClassifierCV 의 정답률\n",
            "[0.93333333 0.76666667 0.93333333 0.83333333 0.83333333]\n",
            "SGDClassifier 의 정답률\n",
            "[0.93333333 0.73333333 0.66666667 0.93333333 0.86666667]\n",
            "SVC 의 정답률\n",
            "[1.         1.         0.96666667 0.9        1.        ]\n"
          ],
          "name": "stdout"
        }
      ]
    },
    {
      "cell_type": "markdown",
      "metadata": {
        "id": "OTCZ3LZIm5Qi",
        "colab_type": "text"
      },
      "source": [
        "## 최적의 parameter 찾기 - Grid search\n",
        "\n"
      ]
    },
    {
      "cell_type": "code",
      "metadata": {
        "id": "U9tZ9Sv6m9nm",
        "colab_type": "code",
        "colab": {
          "base_uri": "https://localhost:8080/",
          "height": 107
        },
        "outputId": "95fb6d79-fa59-4e61-c978-4ec9e4a3beef"
      },
      "source": [
        "import pandas as pd\n",
        "from sklearn.model_selection import train_test_split\n",
        "from sklearn.svm import SVC\n",
        "from sklearn.metrics import accuracy_score\n",
        "from sklearn.model_selection import KFold\n",
        "from sklearn.model_selection import GridSearchCV\n",
        "\n",
        "iris_data = pd.read_csv('iris.csv', encoding = 'utf-8')\n",
        "\n",
        "y = iris_data.loc[:,'Name']\n",
        "x = iris_data.loc[:,['SepalLength', 'SepalWidth', 'PetalLength', \"PetalWidth\"]]\n",
        "\n",
        "x_train, x_test, y_train, y_test = train_test_split(x,y,test_size = 0.2, shuffle = True)\n",
        "\n",
        "parameters = [\n",
        "              {\"C\": [1,10,100,1000], \"kernel\":[\"linear\"]},\n",
        "              {\"C\": [1,10,100,1000], \"kernel\":[\"rbf\"], \"gamma\" : [0.001, 0.0001]},\n",
        "              {\"C\": [1,10,100,1000], \"kernel\":[\"sigmoid\"],\"gamma\" : [0.001, 0.0001]}\n",
        "]\n",
        "\n",
        "kfold_cv = KFold(n_splits=5, shuffle=True)\n",
        "\n",
        "clf = GridSearchCV(SVC(), parameters, cv = k_fold_cv)\n",
        "clf.fit(x_train, y_train)\n",
        "print('최적의 매개변수 = ', clf.best_estimator_)\n",
        "\n",
        "y_pred = clf.predict(x_test)\n",
        "print('최종 정답률 = ', accuracy_score(y_test, y_pred))"
      ],
      "execution_count": 38,
      "outputs": [
        {
          "output_type": "stream",
          "text": [
            "최적의 매개변수 =  SVC(C=1, break_ties=False, cache_size=200, class_weight=None, coef0=0.0,\n",
            "    decision_function_shape='ovr', degree=3, gamma='scale', kernel='linear',\n",
            "    max_iter=-1, probability=False, random_state=None, shrinking=True,\n",
            "    tol=0.001, verbose=False)\n",
            "최종 정답률 =  1.0\n"
          ],
          "name": "stdout"
        }
      ]
    },
    {
      "cell_type": "markdown",
      "metadata": {
        "id": "l3LdajtDoMYA",
        "colab_type": "text"
      },
      "source": [
        "이것도 랜덤한게 좀 있어서 최종 정답률이 1 ~ .93을 왔다갔다함.\n"
      ]
    }
  ]
}