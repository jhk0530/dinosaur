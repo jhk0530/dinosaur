{
  "nbformat": 4,
  "nbformat_minor": 0,
  "metadata": {
    "colab": {
      "name": "21_가장 간단한 머신러닝 예",
      "provenance": [],
      "authorship_tag": "ABX9TyNliG9LGTbrLFmnxokiu5iG",
      "include_colab_link": true
    },
    "kernelspec": {
      "name": "python3",
      "display_name": "Python 3"
    }
  },
  "cells": [
    {
      "cell_type": "markdown",
      "metadata": {
        "id": "view-in-github",
        "colab_type": "text"
      },
      "source": [
        "<a href=\"https://colab.research.google.com/github/jhk0530/dinosour/blob/master/21_%EA%B0%80%EC%9E%A5_%EA%B0%84%EB%8B%A8%ED%95%9C_%EB%A8%B8%EC%8B%A0%EB%9F%AC%EB%8B%9D_%EC%98%88.ipynb\" target=\"_parent\"><img src=\"https://colab.research.google.com/assets/colab-badge.svg\" alt=\"Open In Colab\"/></a>"
      ]
    },
    {
      "cell_type": "markdown",
      "metadata": {
        "id": "4XDDCbel815b",
        "colab_type": "text"
      },
      "source": [
        "## AND 데이터 학습"
      ]
    },
    {
      "cell_type": "code",
      "metadata": {
        "id": "7YmS91xf6MDl",
        "colab_type": "code",
        "colab": {
          "base_uri": "https://localhost:8080/",
          "height": 53
        },
        "outputId": "0f4a6946-3875-4544-b6b0-3e4391a4c49d"
      },
      "source": [
        "from sklearn.svm import LinearSVC\n",
        "from sklearn.metrics import accuracy_score\n",
        "\n",
        "learn_data = [\n",
        "              [0,0], [0,1], [1,0], [1,1]\n",
        "]\n",
        "\n",
        "learn_label = [0,0,0,1]\n",
        "\n",
        "clf = LinearSVC()\n",
        "\n",
        "clf.fit(learn_data, learn_label)\n",
        "\n",
        "test_data =  [\n",
        "              [0,0], [0,1], [1,0], [1,1]\n",
        "]\n",
        "\n",
        "test_label = clf.predict(test_data)\n",
        "\n",
        "print(test_data, \"의 예측 결과\", test_label)\n",
        "print('정답률 : ', accuracy_score([0,0,0,1], test_label))\n",
        "\n"
      ],
      "execution_count": 1,
      "outputs": [
        {
          "output_type": "stream",
          "text": [
            "[[0, 0], [0, 1], [1, 0], [1, 1]] 의 예측 결과 [0 0 0 1]\n",
            "정답률 :  1.0\n"
          ],
          "name": "stdout"
        }
      ]
    },
    {
      "cell_type": "markdown",
      "metadata": {
        "id": "i_ghcCch9PlR",
        "colab_type": "text"
      },
      "source": [
        "spider에서는 XOR을 했던 것 같은데 , 아 바로 다음에 XOR도 하네\n",
        "\n"
      ]
    },
    {
      "cell_type": "code",
      "metadata": {
        "id": "tQta9K_w9bVQ",
        "colab_type": "code",
        "colab": {
          "base_uri": "https://localhost:8080/",
          "height": 53
        },
        "outputId": "628b6a83-691e-4d1d-cbc3-ca45f399e65a"
      },
      "source": [
        "learn_data = [\n",
        "              [0,0], [0,1], [1,0], [1,1]\n",
        "]\n",
        "\n",
        "learn_label = [0,1,1,0]\n",
        "\n",
        "clf = LinearSVC()\n",
        "\n",
        "clf.fit(learn_data, learn_label)\n",
        "\n",
        "test_data =  [\n",
        "              [0,0], [1,0], [0,1], [1,1]\n",
        "]\n",
        "\n",
        "test_label = clf.predict(test_data)\n",
        "\n",
        "print(test_data, \"의 예측 결과\", test_label)\n",
        "print('정답률 : ', accuracy_score([0,1,1,0], test_label))\n"
      ],
      "execution_count": 10,
      "outputs": [
        {
          "output_type": "stream",
          "text": [
            "[[0, 0], [1, 0], [0, 1], [1, 1]] 의 예측 결과 [0 1 1 1]\n",
            "정답률 :  0.75\n"
          ],
          "name": "stdout"
        }
      ]
    },
    {
      "cell_type": "markdown",
      "metadata": {
        "id": "YmFK4bH29jfc",
        "colab_type": "text"
      },
      "source": [
        "`XOR`은 지 맘대로 정답률이 0.25, 0.5, 0.75로 나옴 \n",
        "\n",
        "그 이유는 `linearSVC`는 태생이 linear라서 `XOR`을 구분 못하기 때문.\n",
        "\n",
        "<img src='https://img1.daumcdn.net/thumb/R720x0.q80/?scode=mtistory2&fname=http%3A%2F%2Fcfile26.uf.tistory.com%2Fimage%2F225F7E4B579D6C68072292'>\n",
        "\n",
        "parameter 백날 조정해도 안되기 때문에 `linearSVC`를 버리고 다른걸 써야함.\n",
        "\n",
        "## KNN..? "
      ]
    },
    {
      "cell_type": "code",
      "metadata": {
        "id": "toW6nyzw_L_V",
        "colab_type": "code",
        "colab": {
          "base_uri": "https://localhost:8080/",
          "height": 53
        },
        "outputId": "2005d989-5d2d-4f06-c039-61d6d934c797"
      },
      "source": [
        "from sklearn.neighbors import KNeighborsClassifier\n",
        "from sklearn.metrics import accuracy_score\n",
        "\n",
        "learn_data = [\n",
        "              [0,0], [0,1], [1,0], [1,1]\n",
        "]\n",
        "learn_label = [0,1,1,0]\n",
        "\n",
        "clf = KNeighborsClassifier(n_neighbors = 1)\n",
        "clf.fit (learn_data, learn_label)\n",
        "\n",
        "\n",
        "test_data =  [\n",
        "              [0,0], [1,0], [0,1], [1,1]\n",
        "]\n",
        "\n",
        "test_label = clf.predict(test_data)\n",
        "\n",
        "print(test_data, \"의 예측 결과\", test_label)\n",
        "print('정답률 : ', accuracy_score([0,1,1,0], test_label))\n"
      ],
      "execution_count": 11,
      "outputs": [
        {
          "output_type": "stream",
          "text": [
            "[[0, 0], [1, 0], [0, 1], [1, 1]] 의 예측 결과 [0 1 1 0]\n",
            "정답률 :  1.0\n"
          ],
          "name": "stdout"
        }
      ]
    },
    {
      "cell_type": "markdown",
      "metadata": {
        "id": "f_BGk_FSDZWI",
        "colab_type": "text"
      },
      "source": [
        ""
      ]
    }
  ]
}